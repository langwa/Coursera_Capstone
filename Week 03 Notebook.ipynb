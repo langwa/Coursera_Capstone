{
    "cells": [
        {
            "cell_type": "markdown",
            "metadata": {
                "collapsed": true
            },
            "source": "<h1>Initial Postal Code Dataframe</h1>"
        },
        {
            "cell_type": "markdown",
            "metadata": {},
            "source": "<h5>1. Read the raw postal code data from Wikipedia into a dataframe.</h5>"
        },
        {
            "cell_type": "code",
            "execution_count": 2,
            "metadata": {},
            "outputs": [
                {
                    "data": {
                        "text/html": "<div>\n<style scoped>\n    .dataframe tbody tr th:only-of-type {\n        vertical-align: middle;\n    }\n\n    .dataframe tbody tr th {\n        vertical-align: top;\n    }\n\n    .dataframe thead th {\n        text-align: right;\n    }\n</style>\n<table border=\"1\" class=\"dataframe\">\n  <thead>\n    <tr style=\"text-align: right;\">\n      <th></th>\n      <th>Postal Code</th>\n      <th>Borough</th>\n      <th>Neighbourhood</th>\n    </tr>\n  </thead>\n  <tbody>\n    <tr>\n      <th>count</th>\n      <td>180</td>\n      <td>180</td>\n      <td>180</td>\n    </tr>\n    <tr>\n      <th>unique</th>\n      <td>180</td>\n      <td>11</td>\n      <td>100</td>\n    </tr>\n    <tr>\n      <th>top</th>\n      <td>M6R</td>\n      <td>Not assigned</td>\n      <td>Not assigned</td>\n    </tr>\n    <tr>\n      <th>freq</th>\n      <td>1</td>\n      <td>77</td>\n      <td>77</td>\n    </tr>\n  </tbody>\n</table>\n</div>",
                        "text/plain": "       Postal Code       Borough Neighbourhood\ncount          180           180           180\nunique         180            11           100\ntop            M6R  Not assigned  Not assigned\nfreq             1            77            77"
                    },
                    "execution_count": 2,
                    "metadata": {},
                    "output_type": "execute_result"
                }
            ],
            "source": "import pandas as pd\n\nINPUT_TABLE = 'https://en.wikipedia.org/wiki/List_of_postal_codes_of_Canada:_M'\n\ncodes = pd.read_html(INPUT_TABLE, header=0)[0]\ncodes.describe()"
        },
        {
            "cell_type": "markdown",
            "metadata": {},
            "source": "<h5>2. Remove all entries where borough is \"Not assigned\".</h5>"
        },
        {
            "cell_type": "markdown",
            "metadata": {},
            "source": "Check for instances where Bourough equals \"Not assigned\" in Dataframe."
        },
        {
            "cell_type": "code",
            "execution_count": 3,
            "metadata": {},
            "outputs": [
                {
                    "data": {
                        "text/plain": "True"
                    },
                    "execution_count": 3,
                    "metadata": {},
                    "output_type": "execute_result"
                }
            ],
            "source": "'Not assigned' in codes['Borough'].values"
        },
        {
            "cell_type": "markdown",
            "metadata": {},
            "source": "Filter Dataframe to exclude all rows where Borough is equal to \"Not assigned\"."
        },
        {
            "cell_type": "code",
            "execution_count": 4,
            "metadata": {},
            "outputs": [
                {
                    "data": {
                        "text/html": "<div>\n<style scoped>\n    .dataframe tbody tr th:only-of-type {\n        vertical-align: middle;\n    }\n\n    .dataframe tbody tr th {\n        vertical-align: top;\n    }\n\n    .dataframe thead th {\n        text-align: right;\n    }\n</style>\n<table border=\"1\" class=\"dataframe\">\n  <thead>\n    <tr style=\"text-align: right;\">\n      <th></th>\n      <th>Postal Code</th>\n      <th>Borough</th>\n      <th>Neighbourhood</th>\n    </tr>\n  </thead>\n  <tbody>\n    <tr>\n      <th>count</th>\n      <td>103</td>\n      <td>103</td>\n      <td>103</td>\n    </tr>\n    <tr>\n      <th>unique</th>\n      <td>103</td>\n      <td>10</td>\n      <td>99</td>\n    </tr>\n    <tr>\n      <th>top</th>\n      <td>M6R</td>\n      <td>North York</td>\n      <td>Downsview</td>\n    </tr>\n    <tr>\n      <th>freq</th>\n      <td>1</td>\n      <td>24</td>\n      <td>4</td>\n    </tr>\n  </tbody>\n</table>\n</div>",
                        "text/plain": "       Postal Code     Borough Neighbourhood\ncount          103         103           103\nunique         103          10            99\ntop            M6R  North York     Downsview\nfreq             1          24             4"
                    },
                    "execution_count": 4,
                    "metadata": {},
                    "output_type": "execute_result"
                }
            ],
            "source": "codes = codes[codes['Borough']!='Not assigned']\ncodes.describe()"
        },
        {
            "cell_type": "markdown",
            "metadata": {},
            "source": "Confirm cleanup."
        },
        {
            "cell_type": "code",
            "execution_count": 5,
            "metadata": {},
            "outputs": [
                {
                    "data": {
                        "text/plain": "False"
                    },
                    "execution_count": 5,
                    "metadata": {},
                    "output_type": "execute_result"
                }
            ],
            "source": "'Not assigned' in codes['Borough'].values"
        },
        {
            "cell_type": "markdown",
            "metadata": {},
            "source": "<h5>3. When Neighbourhood is \"Not assigned\", reassign its value as the corresponding Borough.</h5>"
        },
        {
            "cell_type": "markdown",
            "metadata": {},
            "source": "Check for instances where Neighbourhood equals \"Not assigned\" in Dataframe. There are none, so no further work is needed."
        },
        {
            "cell_type": "code",
            "execution_count": 6,
            "metadata": {},
            "outputs": [
                {
                    "data": {
                        "text/plain": "False"
                    },
                    "execution_count": 6,
                    "metadata": {},
                    "output_type": "execute_result"
                }
            ],
            "source": "'Not assigned' in codes['Neighbourhood'].values"
        },
        {
            "cell_type": "markdown",
            "metadata": {},
            "source": "<h5>4. Collect all Neighborhoods as comma-separated lists into their respective postal codes.</h5>"
        },
        {
            "cell_type": "markdown",
            "metadata": {},
            "source": "Group Dataframe by Postal Code and Borough and concatenate all resulting Neighborhoods into one comma-separated list."
        },
        {
            "cell_type": "code",
            "execution_count": 7,
            "metadata": {},
            "outputs": [
                {
                    "data": {
                        "text/html": "<div>\n<style scoped>\n    .dataframe tbody tr th:only-of-type {\n        vertical-align: middle;\n    }\n\n    .dataframe tbody tr th {\n        vertical-align: top;\n    }\n\n    .dataframe thead th {\n        text-align: right;\n    }\n</style>\n<table border=\"1\" class=\"dataframe\">\n  <thead>\n    <tr style=\"text-align: right;\">\n      <th></th>\n      <th>Postal Code</th>\n      <th>Borough</th>\n      <th>Neighbourhood</th>\n    </tr>\n  </thead>\n  <tbody>\n    <tr>\n      <th>0</th>\n      <td>M3A</td>\n      <td>North York</td>\n      <td>Parkwoods</td>\n    </tr>\n    <tr>\n      <th>1</th>\n      <td>M4A</td>\n      <td>North York</td>\n      <td>Victoria Village</td>\n    </tr>\n    <tr>\n      <th>2</th>\n      <td>M5A</td>\n      <td>Downtown Toronto</td>\n      <td>Regent Park, Harbourfront</td>\n    </tr>\n    <tr>\n      <th>3</th>\n      <td>M6A</td>\n      <td>North York</td>\n      <td>Lawrence Manor, Lawrence Heights</td>\n    </tr>\n    <tr>\n      <th>4</th>\n      <td>M7A</td>\n      <td>Downtown Toronto</td>\n      <td>Queen's Park, Ontario Provincial Government</td>\n    </tr>\n  </tbody>\n</table>\n</div>",
                        "text/plain": "  Postal Code           Borough                                Neighbourhood\n0         M3A        North York                                    Parkwoods\n1         M4A        North York                             Victoria Village\n2         M5A  Downtown Toronto                    Regent Park, Harbourfront\n3         M6A        North York             Lawrence Manor, Lawrence Heights\n4         M7A  Downtown Toronto  Queen's Park, Ontario Provincial Government"
                    },
                    "execution_count": 7,
                    "metadata": {},
                    "output_type": "execute_result"
                }
            ],
            "source": "codes['Neighbourhood'] = codes.groupby(['Postal Code','Borough'])['Neighbourhood'].transform(lambda x: ', '.join(x))\ncodes.reset_index(drop=True, inplace=True)\ncodes.head()"
        },
        {
            "cell_type": "code",
            "execution_count": 8,
            "metadata": {},
            "outputs": [
                {
                    "data": {
                        "text/plain": "(103, 3)"
                    },
                    "execution_count": 8,
                    "metadata": {},
                    "output_type": "execute_result"
                }
            ],
            "source": "codes.shape"
        },
        {
            "cell_type": "markdown",
            "metadata": {},
            "source": "<hr />"
        },
        {
            "cell_type": "markdown",
            "metadata": {},
            "source": "<h1>Postal Code Dataframe with Longitude and Latitude</h1>"
        },
        {
            "cell_type": "markdown",
            "metadata": {},
            "source": "<h5>1. Install Geocoder API</h5>"
        },
        {
            "cell_type": "code",
            "execution_count": 9,
            "metadata": {},
            "outputs": [
                {
                    "name": "stdout",
                    "output_type": "stream",
                    "text": "Collecting geocoder\n  Downloading geocoder-1.38.1-py2.py3-none-any.whl (98 kB)\n\u001b[K     |\u2588\u2588\u2588\u2588\u2588\u2588\u2588\u2588\u2588\u2588\u2588\u2588\u2588\u2588\u2588\u2588\u2588\u2588\u2588\u2588\u2588\u2588\u2588\u2588\u2588\u2588\u2588\u2588\u2588\u2588\u2588\u2588| 98 kB 8.9 MB/s  eta 0:00:01\n\u001b[?25hRequirement already satisfied: six in /opt/conda/envs/Python-3.7-main/lib/python3.7/site-packages (from geocoder) (1.15.0)\nRequirement already satisfied: future in /opt/conda/envs/Python-3.7-main/lib/python3.7/site-packages (from geocoder) (0.18.2)\nRequirement already satisfied: click in /opt/conda/envs/Python-3.7-main/lib/python3.7/site-packages (from geocoder) (7.1.2)\nRequirement already satisfied: requests in /opt/conda/envs/Python-3.7-main/lib/python3.7/site-packages (from geocoder) (2.24.0)\nCollecting ratelim\n  Downloading ratelim-0.1.6-py2.py3-none-any.whl (4.0 kB)\nRequirement already satisfied: chardet<4,>=3.0.2 in /opt/conda/envs/Python-3.7-main/lib/python3.7/site-packages (from requests->geocoder) (3.0.4)\nRequirement already satisfied: idna<3,>=2.5 in /opt/conda/envs/Python-3.7-main/lib/python3.7/site-packages (from requests->geocoder) (2.9)\nRequirement already satisfied: certifi>=2017.4.17 in /opt/conda/envs/Python-3.7-main/lib/python3.7/site-packages (from requests->geocoder) (2020.6.20)\nRequirement already satisfied: urllib3!=1.25.0,!=1.25.1,<1.26,>=1.21.1 in /opt/conda/envs/Python-3.7-main/lib/python3.7/site-packages (from requests->geocoder) (1.25.9)\nRequirement already satisfied: decorator in /opt/conda/envs/Python-3.7-main/lib/python3.7/site-packages (from ratelim->geocoder) (4.4.2)\nInstalling collected packages: ratelim, geocoder\nSuccessfully installed geocoder-1.38.1 ratelim-0.1.6\n"
                }
            ],
            "source": "import sys\n!{sys.executable} -m pip install geocoder"
        },
        {
            "cell_type": "markdown",
            "metadata": {},
            "source": "<h5>2. Add a Latitude and Longitude to each dataframe entry corresponding to the Postal Code.</h5>"
        },
        {
            "cell_type": "markdown",
            "metadata": {},
            "source": "NOTE: Geocoder was not returning a result for any postal code in the dataframe, so dummy data is shown below."
        },
        {
            "cell_type": "code",
            "execution_count": 10,
            "metadata": {},
            "outputs": [
                {
                    "data": {
                        "text/html": "<div>\n<style scoped>\n    .dataframe tbody tr th:only-of-type {\n        vertical-align: middle;\n    }\n\n    .dataframe tbody tr th {\n        vertical-align: top;\n    }\n\n    .dataframe thead th {\n        text-align: right;\n    }\n</style>\n<table border=\"1\" class=\"dataframe\">\n  <thead>\n    <tr style=\"text-align: right;\">\n      <th></th>\n      <th>Postal Code</th>\n      <th>Borough</th>\n      <th>Neighbourhood</th>\n      <th>Latitude</th>\n      <th>Longitude</th>\n    </tr>\n  </thead>\n  <tbody>\n    <tr>\n      <th>0</th>\n      <td>M3A</td>\n      <td>North York</td>\n      <td>Parkwoods</td>\n      <td>Fake Lat</td>\n      <td>Fake Long</td>\n    </tr>\n    <tr>\n      <th>1</th>\n      <td>M4A</td>\n      <td>North York</td>\n      <td>Victoria Village</td>\n      <td>Fake Lat</td>\n      <td>Fake Long</td>\n    </tr>\n    <tr>\n      <th>2</th>\n      <td>M5A</td>\n      <td>Downtown Toronto</td>\n      <td>Regent Park, Harbourfront</td>\n      <td>Fake Lat</td>\n      <td>Fake Long</td>\n    </tr>\n    <tr>\n      <th>3</th>\n      <td>M6A</td>\n      <td>North York</td>\n      <td>Lawrence Manor, Lawrence Heights</td>\n      <td>Fake Lat</td>\n      <td>Fake Long</td>\n    </tr>\n    <tr>\n      <th>4</th>\n      <td>M7A</td>\n      <td>Downtown Toronto</td>\n      <td>Queen's Park, Ontario Provincial Government</td>\n      <td>Fake Lat</td>\n      <td>Fake Long</td>\n    </tr>\n  </tbody>\n</table>\n</div>",
                        "text/plain": "  Postal Code           Borough                                Neighbourhood  \\\n0         M3A        North York                                    Parkwoods   \n1         M4A        North York                             Victoria Village   \n2         M5A  Downtown Toronto                    Regent Park, Harbourfront   \n3         M6A        North York             Lawrence Manor, Lawrence Heights   \n4         M7A  Downtown Toronto  Queen's Park, Ontario Provincial Government   \n\n   Latitude  Longitude  \n0  Fake Lat  Fake Long  \n1  Fake Lat  Fake Long  \n2  Fake Lat  Fake Long  \n3  Fake Lat  Fake Long  \n4  Fake Lat  Fake Long  "
                    },
                    "execution_count": 10,
                    "metadata": {},
                    "output_type": "execute_result"
                }
            ],
            "source": "import geocoder\n\n#Function I would actually use if geocoder was functioning correctly\ndef get_coords(postal_code):\n    coords = None\n    while(coords is None):\n        g = geocoder.google('{}, Toronto, Ontario'.format(postal_code))\n        coords = g.latlng\n    return coords\n\n#Function to return fake coordinates to demonstrate how to accomplish datafram\ndef fake_coords(postal_code):\n    return ['Fake Lat', 'Fake Long']\n\n#Dummy dataframe\ntest_codes = codes.copy(deep=True)\ntest_codes['Latitude'], test_codes['Longitude'] = test_codes['Postal Code'].transform(fake_coords)[0]\n\ntest_codes.head()"
        },
        {
            "cell_type": "markdown",
            "metadata": {},
            "source": "Load the supplied latitude and longitude data into a Dataframe and join with postal code Dataframe."
        },
        {
            "cell_type": "code",
            "execution_count": 11,
            "metadata": {},
            "outputs": [
                {
                    "data": {
                        "text/html": "<div>\n<style scoped>\n    .dataframe tbody tr th:only-of-type {\n        vertical-align: middle;\n    }\n\n    .dataframe tbody tr th {\n        vertical-align: top;\n    }\n\n    .dataframe thead th {\n        text-align: right;\n    }\n</style>\n<table border=\"1\" class=\"dataframe\">\n  <thead>\n    <tr style=\"text-align: right;\">\n      <th></th>\n      <th>Postal Code</th>\n      <th>Borough</th>\n      <th>Neighbourhood</th>\n      <th>Latitude</th>\n      <th>Longitude</th>\n    </tr>\n  </thead>\n  <tbody>\n    <tr>\n      <th>0</th>\n      <td>M3A</td>\n      <td>North York</td>\n      <td>Parkwoods</td>\n      <td>43.753259</td>\n      <td>-79.329656</td>\n    </tr>\n    <tr>\n      <th>1</th>\n      <td>M4A</td>\n      <td>North York</td>\n      <td>Victoria Village</td>\n      <td>43.725882</td>\n      <td>-79.315572</td>\n    </tr>\n    <tr>\n      <th>2</th>\n      <td>M5A</td>\n      <td>Downtown Toronto</td>\n      <td>Regent Park, Harbourfront</td>\n      <td>43.654260</td>\n      <td>-79.360636</td>\n    </tr>\n    <tr>\n      <th>3</th>\n      <td>M6A</td>\n      <td>North York</td>\n      <td>Lawrence Manor, Lawrence Heights</td>\n      <td>43.718518</td>\n      <td>-79.464763</td>\n    </tr>\n    <tr>\n      <th>4</th>\n      <td>M7A</td>\n      <td>Downtown Toronto</td>\n      <td>Queen's Park, Ontario Provincial Government</td>\n      <td>43.662301</td>\n      <td>-79.389494</td>\n    </tr>\n  </tbody>\n</table>\n</div>",
                        "text/plain": "  Postal Code           Borough                                Neighbourhood  \\\n0         M3A        North York                                    Parkwoods   \n1         M4A        North York                             Victoria Village   \n2         M5A  Downtown Toronto                    Regent Park, Harbourfront   \n3         M6A        North York             Lawrence Manor, Lawrence Heights   \n4         M7A  Downtown Toronto  Queen's Park, Ontario Provincial Government   \n\n    Latitude  Longitude  \n0  43.753259 -79.329656  \n1  43.725882 -79.315572  \n2  43.654260 -79.360636  \n3  43.718518 -79.464763  \n4  43.662301 -79.389494  "
                    },
                    "execution_count": 11,
                    "metadata": {},
                    "output_type": "execute_result"
                }
            ],
            "source": "latlng_df = pd.read_csv('https://cocl.us/Geospatial_data')\n\ncodes = codes.join(latlng_df.set_index('Postal Code'), on='Postal Code')\ncodes.head()"
        },
        {
            "cell_type": "markdown",
            "metadata": {},
            "source": "<hr />"
        },
        {
            "cell_type": "markdown",
            "metadata": {},
            "source": "<h1>Postal Code Clustering</h1>"
        },
        {
            "cell_type": "markdown",
            "metadata": {},
            "source": "<h5>1. Import required libraries and define function querying Foursquare API.</h5>"
        },
        {
            "cell_type": "code",
            "execution_count": 20,
            "metadata": {},
            "outputs": [],
            "source": "import requests\nimport json"
        },
        {
            "cell_type": "code",
            "execution_count": 80,
            "metadata": {},
            "outputs": [],
            "source": "# The code was removed by Watson Studio for sharing."
        },
        {
            "cell_type": "code",
            "execution_count": 32,
            "metadata": {},
            "outputs": [],
            "source": "def getNearbyVenues(names, latitudes, longitudes, version='20201101', radius=500, limit=100):\n\n    venues_list=[]\n    \n    for name, lat, lng in zip(names, latitudes, longitudes):\n        url = 'https://api.foursquare.com/v2/venues/explore?&client_id={}&client_secret={}&v={}&ll={},{}&radius={}&limit={}'.format(\n            CLIENT_ID, \n            CLIENT_SECRET,\n            version,\n            lat, \n            lng, \n            radius, \n            limit)\n        \n        results = requests.get(url).json()['response']['groups'][0]['items']\n        venues_list.append([(\n            name, \n            lat, \n            lng, \n            v['venue']['name'], \n            v['venue']['location']['lat'], \n            v['venue']['location']['lng'],  \n            v['venue']['categories'][0]['name']) for v in results])\n\n    nearby_venues = pd.DataFrame([item for venue_list in venues_list for item in venue_list])\n    nearby_venues.columns = ['Neighbourhood', \n                  'Latitude', \n                  'Longitude', \n                  'Venue', \n                  'Venue Latitude', \n                  'Venue Longitude', \n                  'Venue Category']\n    \n    return(nearby_venues)"
        },
        {
            "cell_type": "markdown",
            "metadata": {},
            "source": "<h5>2. Retrieve encoded data of all venues near each neighborhood and join with postal code data.</h5>"
        },
        {
            "cell_type": "markdown",
            "metadata": {},
            "source": "Get all venues near each neighborhood using function defined above."
        },
        {
            "cell_type": "code",
            "execution_count": 82,
            "metadata": {},
            "outputs": [
                {
                    "data": {
                        "text/html": "<div>\n<style scoped>\n    .dataframe tbody tr th:only-of-type {\n        vertical-align: middle;\n    }\n\n    .dataframe tbody tr th {\n        vertical-align: top;\n    }\n\n    .dataframe thead th {\n        text-align: right;\n    }\n</style>\n<table border=\"1\" class=\"dataframe\">\n  <thead>\n    <tr style=\"text-align: right;\">\n      <th></th>\n      <th>Neighbourhood</th>\n      <th>Latitude</th>\n      <th>Longitude</th>\n      <th>Venue</th>\n      <th>Venue Latitude</th>\n      <th>Venue Longitude</th>\n      <th>Venue Category</th>\n    </tr>\n  </thead>\n  <tbody>\n    <tr>\n      <th>0</th>\n      <td>Parkwoods</td>\n      <td>43.753259</td>\n      <td>-79.329656</td>\n      <td>Brookbanks Park</td>\n      <td>43.751976</td>\n      <td>-79.332140</td>\n      <td>Park</td>\n    </tr>\n    <tr>\n      <th>1</th>\n      <td>Parkwoods</td>\n      <td>43.753259</td>\n      <td>-79.329656</td>\n      <td>Variety Store</td>\n      <td>43.751974</td>\n      <td>-79.333114</td>\n      <td>Food &amp; Drink Shop</td>\n    </tr>\n    <tr>\n      <th>2</th>\n      <td>Victoria Village</td>\n      <td>43.725882</td>\n      <td>-79.315572</td>\n      <td>Victoria Village Arena</td>\n      <td>43.723481</td>\n      <td>-79.315635</td>\n      <td>Hockey Arena</td>\n    </tr>\n    <tr>\n      <th>3</th>\n      <td>Victoria Village</td>\n      <td>43.725882</td>\n      <td>-79.315572</td>\n      <td>Tim Hortons</td>\n      <td>43.725517</td>\n      <td>-79.313103</td>\n      <td>Coffee Shop</td>\n    </tr>\n    <tr>\n      <th>4</th>\n      <td>Victoria Village</td>\n      <td>43.725882</td>\n      <td>-79.315572</td>\n      <td>Portugril</td>\n      <td>43.725819</td>\n      <td>-79.312785</td>\n      <td>Portuguese Restaurant</td>\n    </tr>\n  </tbody>\n</table>\n</div>",
                        "text/plain": "      Neighbourhood   Latitude  Longitude                   Venue  \\\n0         Parkwoods  43.753259 -79.329656         Brookbanks Park   \n1         Parkwoods  43.753259 -79.329656           Variety Store   \n2  Victoria Village  43.725882 -79.315572  Victoria Village Arena   \n3  Victoria Village  43.725882 -79.315572             Tim Hortons   \n4  Victoria Village  43.725882 -79.315572               Portugril   \n\n   Venue Latitude  Venue Longitude         Venue Category  \n0       43.751976       -79.332140                   Park  \n1       43.751974       -79.333114      Food & Drink Shop  \n2       43.723481       -79.315635           Hockey Arena  \n3       43.725517       -79.313103            Coffee Shop  \n4       43.725819       -79.312785  Portuguese Restaurant  "
                    },
                    "execution_count": 82,
                    "metadata": {},
                    "output_type": "execute_result"
                }
            ],
            "source": "venues = getNearbyVenues(codes.Neighbourhood, codes.Latitude, codes.Longitude)\n\nvenues.head()"
        },
        {
            "cell_type": "markdown",
            "metadata": {},
            "source": "Encode venue categories, calculate the mean of the encodings by Neighborhood, and join to original postal code data."
        },
        {
            "cell_type": "code",
            "execution_count": 83,
            "metadata": {},
            "outputs": [
                {
                    "data": {
                        "text/html": "<div>\n<style scoped>\n    .dataframe tbody tr th:only-of-type {\n        vertical-align: middle;\n    }\n\n    .dataframe tbody tr th {\n        vertical-align: top;\n    }\n\n    .dataframe thead th {\n        text-align: right;\n    }\n</style>\n<table border=\"1\" class=\"dataframe\">\n  <thead>\n    <tr style=\"text-align: right;\">\n      <th></th>\n      <th>Postal Code</th>\n      <th>Borough</th>\n      <th>Neighbourhood</th>\n      <th>Accessories Store</th>\n      <th>Afghan Restaurant</th>\n      <th>Airport</th>\n      <th>Airport Food Court</th>\n      <th>Airport Gate</th>\n      <th>Airport Lounge</th>\n      <th>Airport Service</th>\n      <th>...</th>\n      <th>Train Station</th>\n      <th>Turkish Restaurant</th>\n      <th>Vegetarian / Vegan Restaurant</th>\n      <th>Video Game Store</th>\n      <th>Vietnamese Restaurant</th>\n      <th>Warehouse Store</th>\n      <th>Wine Bar</th>\n      <th>Wings Joint</th>\n      <th>Women's Store</th>\n      <th>Yoga Studio</th>\n    </tr>\n  </thead>\n  <tbody>\n    <tr>\n      <th>0</th>\n      <td>M3A</td>\n      <td>North York</td>\n      <td>Parkwoods</td>\n      <td>0.000000</td>\n      <td>0.0</td>\n      <td>0.0</td>\n      <td>0.0</td>\n      <td>0.0</td>\n      <td>0.0</td>\n      <td>0.0</td>\n      <td>...</td>\n      <td>0.0</td>\n      <td>0.0</td>\n      <td>0.0</td>\n      <td>0.0</td>\n      <td>0.000000</td>\n      <td>0.0</td>\n      <td>0.0</td>\n      <td>0.0</td>\n      <td>0.000000</td>\n      <td>0.000000</td>\n    </tr>\n    <tr>\n      <th>1</th>\n      <td>M4A</td>\n      <td>North York</td>\n      <td>Victoria Village</td>\n      <td>0.000000</td>\n      <td>0.0</td>\n      <td>0.0</td>\n      <td>0.0</td>\n      <td>0.0</td>\n      <td>0.0</td>\n      <td>0.0</td>\n      <td>...</td>\n      <td>0.0</td>\n      <td>0.0</td>\n      <td>0.0</td>\n      <td>0.0</td>\n      <td>0.000000</td>\n      <td>0.0</td>\n      <td>0.0</td>\n      <td>0.0</td>\n      <td>0.000000</td>\n      <td>0.000000</td>\n    </tr>\n    <tr>\n      <th>2</th>\n      <td>M5A</td>\n      <td>Downtown Toronto</td>\n      <td>Regent Park, Harbourfront</td>\n      <td>0.000000</td>\n      <td>0.0</td>\n      <td>0.0</td>\n      <td>0.0</td>\n      <td>0.0</td>\n      <td>0.0</td>\n      <td>0.0</td>\n      <td>...</td>\n      <td>0.0</td>\n      <td>0.0</td>\n      <td>0.0</td>\n      <td>0.0</td>\n      <td>0.000000</td>\n      <td>0.0</td>\n      <td>0.0</td>\n      <td>0.0</td>\n      <td>0.000000</td>\n      <td>0.022222</td>\n    </tr>\n    <tr>\n      <th>3</th>\n      <td>M6A</td>\n      <td>North York</td>\n      <td>Lawrence Manor, Lawrence Heights</td>\n      <td>0.076923</td>\n      <td>0.0</td>\n      <td>0.0</td>\n      <td>0.0</td>\n      <td>0.0</td>\n      <td>0.0</td>\n      <td>0.0</td>\n      <td>...</td>\n      <td>0.0</td>\n      <td>0.0</td>\n      <td>0.0</td>\n      <td>0.0</td>\n      <td>0.076923</td>\n      <td>0.0</td>\n      <td>0.0</td>\n      <td>0.0</td>\n      <td>0.076923</td>\n      <td>0.000000</td>\n    </tr>\n    <tr>\n      <th>4</th>\n      <td>M7A</td>\n      <td>Downtown Toronto</td>\n      <td>Queen's Park, Ontario Provincial Government</td>\n      <td>0.000000</td>\n      <td>0.0</td>\n      <td>0.0</td>\n      <td>0.0</td>\n      <td>0.0</td>\n      <td>0.0</td>\n      <td>0.0</td>\n      <td>...</td>\n      <td>0.0</td>\n      <td>0.0</td>\n      <td>0.0</td>\n      <td>0.0</td>\n      <td>0.000000</td>\n      <td>0.0</td>\n      <td>0.0</td>\n      <td>0.0</td>\n      <td>0.000000</td>\n      <td>0.030303</td>\n    </tr>\n  </tbody>\n</table>\n<p>5 rows \u00d7 280 columns</p>\n</div>",
                        "text/plain": "  Postal Code           Borough                                Neighbourhood  \\\n0         M3A        North York                                    Parkwoods   \n1         M4A        North York                             Victoria Village   \n2         M5A  Downtown Toronto                    Regent Park, Harbourfront   \n3         M6A        North York             Lawrence Manor, Lawrence Heights   \n4         M7A  Downtown Toronto  Queen's Park, Ontario Provincial Government   \n\n   Accessories Store  Afghan Restaurant  Airport  Airport Food Court  \\\n0           0.000000                0.0      0.0                 0.0   \n1           0.000000                0.0      0.0                 0.0   \n2           0.000000                0.0      0.0                 0.0   \n3           0.076923                0.0      0.0                 0.0   \n4           0.000000                0.0      0.0                 0.0   \n\n   Airport Gate  Airport Lounge  Airport Service  ...  Train Station  \\\n0           0.0             0.0              0.0  ...            0.0   \n1           0.0             0.0              0.0  ...            0.0   \n2           0.0             0.0              0.0  ...            0.0   \n3           0.0             0.0              0.0  ...            0.0   \n4           0.0             0.0              0.0  ...            0.0   \n\n   Turkish Restaurant  Vegetarian / Vegan Restaurant  Video Game Store  \\\n0                 0.0                            0.0               0.0   \n1                 0.0                            0.0               0.0   \n2                 0.0                            0.0               0.0   \n3                 0.0                            0.0               0.0   \n4                 0.0                            0.0               0.0   \n\n   Vietnamese Restaurant  Warehouse Store  Wine Bar  Wings Joint  \\\n0               0.000000              0.0       0.0          0.0   \n1               0.000000              0.0       0.0          0.0   \n2               0.000000              0.0       0.0          0.0   \n3               0.076923              0.0       0.0          0.0   \n4               0.000000              0.0       0.0          0.0   \n\n   Women's Store  Yoga Studio  \n0       0.000000     0.000000  \n1       0.000000     0.000000  \n2       0.000000     0.022222  \n3       0.076923     0.000000  \n4       0.000000     0.030303  \n\n[5 rows x 280 columns]"
                    },
                    "execution_count": 83,
                    "metadata": {},
                    "output_type": "execute_result"
                }
            ],
            "source": "venues_ohe = pd.get_dummies(venues[['Venue Category']], prefix='', prefix_sep='')\nvenues_ohe['Neighbourhood'] = venues['Neighbourhood'] \nvenues_ohe = venues_ohe.groupby('Neighbourhood').mean().reset_index()\n\ncodes_venues = codes[['Postal Code', 'Borough', 'Neighbourhood']].join(venues_ohe.set_index('Neighbourhood'), on='Neighbourhood')\ncodes_venues.head()"
        },
        {
            "cell_type": "code",
            "execution_count": null,
            "metadata": {},
            "outputs": [],
            "source": ""
        }
    ],
    "metadata": {
        "kernelspec": {
            "display_name": "Python 3.7",
            "language": "python",
            "name": "python3"
        },
        "language_info": {
            "codemirror_mode": {
                "name": "ipython",
                "version": 3
            },
            "file_extension": ".py",
            "mimetype": "text/x-python",
            "name": "python",
            "nbconvert_exporter": "python",
            "pygments_lexer": "ipython3",
            "version": "3.7.9"
        }
    },
    "nbformat": 4,
    "nbformat_minor": 1
}