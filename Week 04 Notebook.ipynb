{
    "cells": [
        {
            "cell_type": "markdown",
            "metadata": {
                "collapsed": true
            },
            "source": "<h1>Opening a Food Cart in Portland, OR after the Pandemic</h1>"
        },
        {
            "cell_type": "markdown",
            "metadata": {},
            "source": "<figure>\n    <img src=\"https://upload.wikimedia.org/wikipedia/commons/5/5a/Food_carts_-_Portland%2C_Oregon_-_DSC01696.jpg\" />\n    <figcaption><i>By Daderot - Own work, CC0, https://commons.wikimedia.org/w/index.php?curid=72942046</i></figcaption>\n</figure>\n<hr />"
        },
        {
            "cell_type": "markdown",
            "metadata": {},
            "source": "<h2>Introduction/Business Problem</h2>\n<p>\nIn the wake of the 2020 COVID-19 pandemic, many brick and mortar restaurants have been forced to close down due to revenue loss from the restrictions put in place to curb the spread of COVID-19. As such, independent restaurant ownership has a higher barrier to entry than ever before. A path forward for the independent restauranteur lies in the food cart scene, which has a large footprint in Portland, OR. Outside of reduced overall foot traffic, managing a food cart does not share many of the financial burdens of opening a restaurant that are so critically hampered by the uncertainties in revenue from reductions in customers and employees.\n</p>\n<p>\nThe stakes are always elevated when it comes to independent restaurant ownership, and the large food truck footprint in Portland, OR, means competition can be fierce. If you wish to open your first food-service establishment, or you wish to pivot from your current brick and mortar location, the question becomes: where should you open a food cart to optimize customer engagement while minimizing competition? The goal of this report is to provide a brief overlook of what types of neighborhoods exist in Portland, OR and which neighborhoods provide your best chance for success.\n</p>"
        },
        {
            "cell_type": "markdown",
            "metadata": {},
            "source": "<h2>Data</h2>\n\n<p>\nStarting with a list of neighborhoods in Portland, OR (derived from scraping <a href=\"https://en.wikipedia.org/wiki/Category:Neighborhoods_in_Portland,_Oregon\">these data</a> with the BeautifulSoup4 package) the intent is to gather a list of nearby venue data within each neighborhood via calls to the RESTful Foursquare API in order to segment the city into clusters of similar neighborhoods using a K-means algorithm. The choice of best number of cluster centers will be determined iteratively by comparing results from both an elbow plot and a silhouette score.\n</p>\n<p>\nBased on nearby attractions (especially food cart options), we will provide a top-five ranking of neighborhoods to select based on descriptive statistics and the resultant clustering data based on a few naive assumptions to be defined later in this report.\n</p>"
        },
        {
            "cell_type": "code",
            "execution_count": null,
            "metadata": {},
            "outputs": [],
            "source": ""
        }
    ],
    "metadata": {
        "kernelspec": {
            "display_name": "Python 3.7",
            "language": "python",
            "name": "python3"
        },
        "language_info": {
            "codemirror_mode": {
                "name": "ipython",
                "version": 3
            },
            "file_extension": ".py",
            "mimetype": "text/x-python",
            "name": "python",
            "nbconvert_exporter": "python",
            "pygments_lexer": "ipython3",
            "version": "3.7.9"
        }
    },
    "nbformat": 4,
    "nbformat_minor": 1
}