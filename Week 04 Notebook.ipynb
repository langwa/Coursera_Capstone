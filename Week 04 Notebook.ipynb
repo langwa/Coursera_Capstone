{
    "cells": [
        {
            "cell_type": "markdown",
            "metadata": {
                "collapsed": true
            },
            "source": "<h1>Opening a Food Cart in Portland, OR after the Pandemic</h1>"
        },
        {
            "cell_type": "markdown",
            "metadata": {},
            "source": "<figure>\n    <img src=\"https://upload.wikimedia.org/wikipedia/commons/5/5a/Food_carts_-_Portland%2C_Oregon_-_DSC01696.jpg\" />\n    <figcaption><i>By Daderot - Own work, CC0, https://commons.wikimedia.org/w/index.php?curid=72942046</i></figcaption>\n</figure>\n<hr />"
        },
        {
            "cell_type": "markdown",
            "metadata": {},
            "source": "<h2>Introduction/Business Problem</h2>\n<p>\nIn the wake of the 2020 COVID-19 pandemic, many brick and mortar restaurants have been forced to close down due to revenue loss from the restrictions put in place to curb the spread of COVID-19. As such, independent restaurant ownership has a higher barrier to entry than ever before. A path forward for the independent restauranteur lies in the food cart scene, which has a large footprint in Portland, OR. Outside of reduced overall foot traffic, managing a food cart does not share many of the financial burdens of opening a restaurant that are so critically hampered by the uncertainties in revenue from reductions in customers and employees.\n</p>\n<p>\nGiven the large footprint in Portland, OR, competition can be fierce. The question becomes: where should you open a food cart to optimize customer engagement while minimizing competition?\n</p>"
        },
        {
            "cell_type": "markdown",
            "metadata": {},
            "source": "<h2>Data</h2>\n\n<p>\nWe will start with a list of neighborhoods in Portland, OR (derived from <a href=\"https://en.wikipedia.org/wiki/Category:Neighborhoods_in_Portland,_Oregon\">these data</a>) and use related data from Foursquare API calls to segment the city into clusters using a K-means algorithm. Based on population data and nearby attractions (especially food cart options), we will provide a top-five ranking of neighborhoods to select. \n</p>"
        },
        {
            "cell_type": "code",
            "execution_count": null,
            "metadata": {},
            "outputs": [],
            "source": ""
        }
    ],
    "metadata": {
        "kernelspec": {
            "display_name": "Python 3.7",
            "language": "python",
            "name": "python3"
        },
        "language_info": {
            "codemirror_mode": {
                "name": "ipython",
                "version": 3
            },
            "file_extension": ".py",
            "mimetype": "text/x-python",
            "name": "python",
            "nbconvert_exporter": "python",
            "pygments_lexer": "ipython3",
            "version": "3.7.9"
        }
    },
    "nbformat": 4,
    "nbformat_minor": 1
}